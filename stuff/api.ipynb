{
 "cells": [
  {
   "cell_type": "markdown",
   "metadata": {},
   "source": [
    "# Stargeo API\n",
    "\n",
    "Stargeo provides API to access our data, make annotations, run analyses and more. It will be presented here in the form of copy-pastable examples. Continue reading or jump to [series and samples](#Series-and-their-samples), [platforms](#Platforms) and [probes](#Platform-probes), [tags](#Tags), [analyses](#Analyses) or [annotations](#Annotations).\n",
    "\n",
    "We will start with importing `requests` and `pandas`."
   ]
  },
  {
   "cell_type": "code",
   "execution_count": 3,
   "metadata": {
    "collapsed": true
   },
   "outputs": [],
   "source": [
    "import requests\n",
    "import pandas as pd"
   ]
  },
  {
   "cell_type": "markdown",
   "metadata": {},
   "source": [
    "## Series and their samples"
   ]
  },
  {
   "cell_type": "code",
   "execution_count": 9,
   "metadata": {},
   "outputs": [
    {
     "data": {
      "text/plain": [
       "(33785, 10)"
      ]
     },
     "execution_count": 9,
     "metadata": {},
     "output_type": "execute_result"
    }
   ],
   "source": [
    "# Fetch first 10 series, defaults to 100\n",
    "r = requests.get('http://stargeo.org/api/v2/series/?limit=10')\n",
    "assert r.ok\n",
    "data = r.json()\n",
    "\n",
    "data['count'], len(data['results'])"
   ]
  },
  {
   "cell_type": "code",
   "execution_count": 13,
   "metadata": {},
   "outputs": [
    {
     "data": {
      "text/plain": [
       "{u'attrs': '...',\n",
       " u'gse_name': u'GSE1',\n",
       " u'platforms': [u'GPL7'],\n",
       " u'specie': u'human'}"
      ]
     },
     "execution_count": 13,
     "metadata": {},
     "output_type": "execute_result"
    }
   ],
   "source": [
    "data['results'][0]"
   ]
  },
  {
   "cell_type": "code",
   "execution_count": null,
   "metadata": {
    "collapsed": true
   },
   "outputs": [],
   "source": [
    "# Fetch next 10 series\n",
    "r = requests.get(data['next'])"
   ]
  },
  {
   "cell_type": "markdown",
   "metadata": {},
   "source": [
    "You can also fetch single serie data and its samples by gse name."
   ]
  },
  {
   "cell_type": "code",
   "execution_count": 16,
   "metadata": {},
   "outputs": [
    {
     "data": {
      "text/plain": [
       "u'{\"platforms\":[\"GPL7\"],\"attrs\":{\"status\":\"Public on Jan 22 2001\",\"contact_address\":\" \",\"relation\":\"BioProject: http://www.ncbi.nlm.nih.gov/bioproject/PRJNA84463\",\"sample_id\":\"GSM11 GSM12 GSM13 GSM14 GSM15 GSM16 GSM17 GSM18 GSM19 GSM20 GSM21 GSM22 GSM23 GSM24 GSM25 GSM26 GSM27 GSM28 GSM29 GSM30 GSM31 GSM32 GSM33 GSM34 GSM35 GSM36 GSM37 GSM38 GSM39 GSM40 GSM41 GSM42 GSM43 GSM44 GSM45 GSM46 GSM47 GSM48 \",\"contact_name\":\"Michael,,Bittner\",\"contact_country\":\"USA\",\"title\":\"NHGRI_Melanoma_class\",\"contact_institute\":\"NHGRI, NIH\",\"sample_taxid\":\"9606\",\"pubmed_id\":\"10952317\",\"type\":\"Expression profiling by array\",\"submission_date\":\"Jan 22 2001\",\"contact_state\":\"MD\",\"contact_zip_postal_code\":\"20892\",\"geo_accession\":\"GSE1\",\"contact_email\":\"mbittner@nhgri.nih.gov\",\"last_update_date\":\"Jul 18 2016\",\"contact_web_link\":\"http://www.nhgri.nih.gov/Intramural_research/People/bittnerm.html\",\"contact_city\":\"Bethesda\",\"contact_phone\":\"301-496-7980\",\"summary\":\"This series represents a group of cutaneous malignant melanomas and unrelated controls which were clustered based on correlation coefficients calculated through a comparison of gene expression|\\\\n|profiles.|\\\\n|Keywords: other\",\"platform_id\":\"GPL7\",\"contact_department\":\"Cancer Genetics Branch\",\"contact_fax\":\"301-402-3241\",\"platform_taxid\":\"9606\"},\"specie\":\"human\",\"gse_name\":\"GSE1\"}'"
      ]
     },
     "execution_count": 16,
     "metadata": {},
     "output_type": "execute_result"
    }
   ],
   "source": [
    "# Fetch GSE1 serie data\n",
    "requests.get('http://stargeo.org/api/v2/series/GSE1/').text"
   ]
  },
  {
   "cell_type": "code",
   "execution_count": 19,
   "metadata": {},
   "outputs": [
    {
     "data": {
      "text/html": [
       "<div>\n",
       "<table border=\"1\" class=\"dataframe\">\n",
       "  <thead>\n",
       "    <tr style=\"text-align: right;\">\n",
       "      <th></th>\n",
       "      <th>attrs</th>\n",
       "      <th>gpl_name</th>\n",
       "      <th>gse_name</th>\n",
       "      <th>gsm_name</th>\n",
       "    </tr>\n",
       "  </thead>\n",
       "  <tbody>\n",
       "    <tr>\n",
       "      <th>0</th>\n",
       "      <td>{u'submission_date': u'Jan 08 2001', u'contact...</td>\n",
       "      <td>GPL7</td>\n",
       "      <td>GSE1</td>\n",
       "      <td>GSM20</td>\n",
       "    </tr>\n",
       "    <tr>\n",
       "      <th>1</th>\n",
       "      <td>{u'submission_date': u'Jan 08 2001', u'contact...</td>\n",
       "      <td>GPL7</td>\n",
       "      <td>GSE1</td>\n",
       "      <td>GSM15</td>\n",
       "    </tr>\n",
       "    <tr>\n",
       "      <th>2</th>\n",
       "      <td>{u'submission_date': u'Jan 08 2001', u'contact...</td>\n",
       "      <td>GPL7</td>\n",
       "      <td>GSE1</td>\n",
       "      <td>GSM12</td>\n",
       "    </tr>\n",
       "    <tr>\n",
       "      <th>3</th>\n",
       "      <td>{u'submission_date': u'Jan 08 2001', u'contact...</td>\n",
       "      <td>GPL7</td>\n",
       "      <td>GSE1</td>\n",
       "      <td>GSM18</td>\n",
       "    </tr>\n",
       "    <tr>\n",
       "      <th>4</th>\n",
       "      <td>{u'submission_date': u'Jan 08 2001', u'contact...</td>\n",
       "      <td>GPL7</td>\n",
       "      <td>GSE1</td>\n",
       "      <td>GSM19</td>\n",
       "    </tr>\n",
       "  </tbody>\n",
       "</table>\n",
       "</div>"
      ],
      "text/plain": [
       "                                               attrs gpl_name gse_name  \\\n",
       "0  {u'submission_date': u'Jan 08 2001', u'contact...     GPL7     GSE1   \n",
       "1  {u'submission_date': u'Jan 08 2001', u'contact...     GPL7     GSE1   \n",
       "2  {u'submission_date': u'Jan 08 2001', u'contact...     GPL7     GSE1   \n",
       "3  {u'submission_date': u'Jan 08 2001', u'contact...     GPL7     GSE1   \n",
       "4  {u'submission_date': u'Jan 08 2001', u'contact...     GPL7     GSE1   \n",
       "\n",
       "  gsm_name  \n",
       "0    GSM20  \n",
       "1    GSM15  \n",
       "2    GSM12  \n",
       "3    GSM18  \n",
       "4    GSM19  "
      ]
     },
     "execution_count": 19,
     "metadata": {},
     "output_type": "execute_result"
    }
   ],
   "source": [
    "# Fetch GSE1 samples\n",
    "samples_json = requests.get('http://stargeo.org/api/v2/series/GSE1/samples/').json()\n",
    "# or \n",
    "samples = pd.read_json('http://stargeo.org/api/v2/series/GSE1/samples/')\n",
    "samples.head()"
   ]
  },
  {
   "cell_type": "markdown",
   "metadata": {},
   "source": [
    "## Platforms"
   ]
  },
  {
   "cell_type": "code",
   "execution_count": 24,
   "metadata": {},
   "outputs": [
    {
     "data": {
      "text/plain": [
       "[{u'gpl_name': u'GPL7',\n",
       "  u'probes_matched': 6334,\n",
       "  u'probes_total': 8192,\n",
       "  u'specie': u'human'},\n",
       " {u'gpl_name': u'GPL96',\n",
       "  u'probes_matched': 20883,\n",
       "  u'probes_total': 22283,\n",
       "  u'specie': u'human'}]"
      ]
     },
     "execution_count": 24,
     "metadata": {},
     "output_type": "execute_result"
    }
   ],
   "source": [
    "# Fetch first 100 platforms, fetching the rest same way as with series above \n",
    "r = requests.get('http://stargeo.org/api/v2/platforms/').json()\n",
    "platforms = r['results']\n",
    "platforms[:2]"
   ]
  },
  {
   "cell_type": "code",
   "execution_count": 26,
   "metadata": {},
   "outputs": [
    {
     "data": {
      "text/plain": [
       "{u'gpl_name': u'GPL7',\n",
       " u'probes_matched': 6334,\n",
       " u'probes_total': 8192,\n",
       " u'specie': u'human'}"
      ]
     },
     "execution_count": 26,
     "metadata": {},
     "output_type": "execute_result"
    }
   ],
   "source": [
    "# Fetch single platform by gpl name\n",
    "requests.get('http://stargeo.org/api/v2/platforms/GPL7/').json()"
   ]
  },
  {
   "cell_type": "markdown",
   "metadata": {},
   "source": [
    "## Platform probes"
   ]
  },
  {
   "cell_type": "code",
   "execution_count": 30,
   "metadata": {},
   "outputs": [
    {
     "data": {
      "text/plain": [
       "6334"
      ]
     },
     "execution_count": 30,
     "metadata": {},
     "output_type": "execute_result"
    }
   ],
   "source": [
    "probes = pd.read_json('http://stargeo.org/api/v2/platforms/GPL7/probes/', orient='split')\n",
    "len(probes)"
   ]
  },
  {
   "cell_type": "code",
   "execution_count": 31,
   "metadata": {},
   "outputs": [
    {
     "data": {
      "text/html": [
       "<div>\n",
       "<table border=\"1\" class=\"dataframe\">\n",
       "  <thead>\n",
       "    <tr style=\"text-align: right;\">\n",
       "      <th></th>\n",
       "      <th>probe</th>\n",
       "      <th>mygene_sym</th>\n",
       "      <th>mygene_entrez</th>\n",
       "    </tr>\n",
       "  </thead>\n",
       "  <tbody>\n",
       "    <tr>\n",
       "      <th>0</th>\n",
       "      <td>5988</td>\n",
       "      <td>ANKRD55</td>\n",
       "      <td>79722</td>\n",
       "    </tr>\n",
       "    <tr>\n",
       "      <th>1</th>\n",
       "      <td>5989</td>\n",
       "      <td>DOLPP1</td>\n",
       "      <td>57171</td>\n",
       "    </tr>\n",
       "    <tr>\n",
       "      <th>2</th>\n",
       "      <td>5980</td>\n",
       "      <td>SNCA</td>\n",
       "      <td>6622</td>\n",
       "    </tr>\n",
       "    <tr>\n",
       "      <th>3</th>\n",
       "      <td>5981</td>\n",
       "      <td>VWA8</td>\n",
       "      <td>23078</td>\n",
       "    </tr>\n",
       "    <tr>\n",
       "      <th>4</th>\n",
       "      <td>5986</td>\n",
       "      <td>SCN8A</td>\n",
       "      <td>6334</td>\n",
       "    </tr>\n",
       "  </tbody>\n",
       "</table>\n",
       "</div>"
      ],
      "text/plain": [
       "   probe mygene_sym  mygene_entrez\n",
       "0   5988    ANKRD55          79722\n",
       "1   5989     DOLPP1          57171\n",
       "2   5980       SNCA           6622\n",
       "3   5981       VWA8          23078\n",
       "4   5986      SCN8A           6334"
      ]
     },
     "execution_count": 31,
     "metadata": {},
     "output_type": "execute_result"
    }
   ],
   "source": [
    "probes.head()"
   ]
  },
  {
   "cell_type": "markdown",
   "metadata": {
    "collapsed": true
   },
   "source": [
    "## Tags"
   ]
  },
  {
   "cell_type": "code",
   "execution_count": 7,
   "metadata": {},
   "outputs": [
    {
     "data": {
      "text/html": [
       "<div>\n",
       "<table border=\"1\" class=\"dataframe\">\n",
       "  <thead>\n",
       "    <tr style=\"text-align: right;\">\n",
       "      <th></th>\n",
       "      <th>concept_full_id</th>\n",
       "      <th>concept_name</th>\n",
       "      <th>description</th>\n",
       "      <th>id</th>\n",
       "      <th>ontology_id</th>\n",
       "      <th>tag_name</th>\n",
       "    </tr>\n",
       "  </thead>\n",
       "  <tbody>\n",
       "    <tr>\n",
       "      <th>27</th>\n",
       "      <td>http://purl.obolibrary.org/obo/DOID_12206</td>\n",
       "      <td>dengue hemorrhagic fever</td>\n",
       "      <td>Dengue hemorrhagic fever (DOID:12206)</td>\n",
       "      <td>7</td>\n",
       "      <td>DOID</td>\n",
       "      <td>DHF</td>\n",
       "    </tr>\n",
       "    <tr>\n",
       "      <th>28</th>\n",
       "      <td>http://purl.obolibrary.org/obo/DOID_9119</td>\n",
       "      <td>acute myeloid leukemia</td>\n",
       "      <td>acute myeloid leukemia (DOID:9119)</td>\n",
       "      <td>117</td>\n",
       "      <td>DOID</td>\n",
       "      <td>AML_Tissue</td>\n",
       "    </tr>\n",
       "    <tr>\n",
       "      <th>29</th>\n",
       "      <td>http://purl.obolibrary.org/obo/DOID_9206</td>\n",
       "      <td>Barrett's esophagus</td>\n",
       "      <td>Barrett's esophagus (DOID:9206)</td>\n",
       "      <td>77</td>\n",
       "      <td>DOID</td>\n",
       "      <td>BE_Tissue</td>\n",
       "    </tr>\n",
       "    <tr>\n",
       "      <th>30</th>\n",
       "      <td>http://purl.obolibrary.org/obo/DOID_10608</td>\n",
       "      <td>celiac disease</td>\n",
       "      <td>celiac disease (DOID:10608) control</td>\n",
       "      <td>180</td>\n",
       "      <td>DOID</td>\n",
       "      <td>celiac_control</td>\n",
       "    </tr>\n",
       "    <tr>\n",
       "      <th>31</th>\n",
       "      <td>http://purl.obolibrary.org/obo/DOID_12140</td>\n",
       "      <td>Chagas disease</td>\n",
       "      <td>Control for Chagas</td>\n",
       "      <td>89</td>\n",
       "      <td>DOID</td>\n",
       "      <td>Chagas_control</td>\n",
       "    </tr>\n",
       "  </tbody>\n",
       "</table>\n",
       "</div>"
      ],
      "text/plain": [
       "                              concept_full_id              concept_name  \\\n",
       "27  http://purl.obolibrary.org/obo/DOID_12206  dengue hemorrhagic fever   \n",
       "28   http://purl.obolibrary.org/obo/DOID_9119    acute myeloid leukemia   \n",
       "29   http://purl.obolibrary.org/obo/DOID_9206       Barrett's esophagus   \n",
       "30  http://purl.obolibrary.org/obo/DOID_10608            celiac disease   \n",
       "31  http://purl.obolibrary.org/obo/DOID_12140            Chagas disease   \n",
       "\n",
       "                              description   id ontology_id        tag_name  \n",
       "27  Dengue hemorrhagic fever (DOID:12206)    7        DOID             DHF  \n",
       "28     acute myeloid leukemia (DOID:9119)  117        DOID      AML_Tissue  \n",
       "29        Barrett's esophagus (DOID:9206)   77        DOID       BE_Tissue  \n",
       "30    celiac disease (DOID:10608) control  180        DOID  celiac_control  \n",
       "31                     Control for Chagas   89        DOID  Chagas_control  "
      ]
     },
     "execution_count": 7,
     "metadata": {},
     "output_type": "execute_result"
    }
   ],
   "source": [
    "# Fetch all samples\n",
    "tags = requests.get('http://stargeo.org/api/v2/tags/').json()\n",
    "# or\n",
    "tags = pd.read_json('http://stargeo.org/api/v2/tags/')\n",
    "tags[tags.concept_name != ''].head()"
   ]
  },
  {
   "cell_type": "markdown",
   "metadata": {},
   "source": [
    "Fetch single tag info:"
   ]
  },
  {
   "cell_type": "code",
   "execution_count": 8,
   "metadata": {},
   "outputs": [
    {
     "data": {
      "text/plain": [
       "{u'concept_full_id': u'http://purl.obolibrary.org/obo/DOID_12206',\n",
       " u'concept_name': u'dengue hemorrhagic fever',\n",
       " u'description': u'Dengue hemorrhagic fever (DOID:12206)',\n",
       " u'id': 7,\n",
       " u'ontology_id': u'DOID',\n",
       " u'tag_name': u'DHF'}"
      ]
     },
     "execution_count": 8,
     "metadata": {},
     "output_type": "execute_result"
    }
   ],
   "source": [
    "# Fetch tag with id 7 data\n",
    "requests.get('http://stargeo.org/api/v2/tags/7/').json()"
   ]
  },
  {
   "cell_type": "markdown",
   "metadata": {},
   "source": [
    "## Analyses\n",
    "\n",
    "Stargeo API provides a way to list and load existing analyses and load their results as well as source data and fold changes. Additionally an authorized user can perform new analyses."
   ]
  },
  {
   "cell_type": "code",
   "execution_count": 14,
   "metadata": {},
   "outputs": [
    {
     "data": {
      "text/plain": [
       "(136, 100)"
      ]
     },
     "execution_count": 14,
     "metadata": {},
     "output_type": "execute_result"
    }
   ],
   "source": [
    "data = requests.get('http://stargeo.org/api/v2/analysis/').json()\n",
    "data['count'], len(data['results'])"
   ]
  },
  {
   "cell_type": "code",
   "execution_count": 15,
   "metadata": {},
   "outputs": [
    {
     "data": {
      "text/plain": [
       "{u'analysis_name': u'hypertension',\n",
       " u'case_query': u\"PHT == 'PHT' or hypertension == 'hypertension'\",\n",
       " u'control_query': u\"PHT_Control == 'PHT_Control' or hypertension_control == 'hypertension_control'\",\n",
       " u'description': u'hypertension (DOID:10763)',\n",
       " u'df': u'http://analysis-df.stargeo.io.s3.amazonaws.com/243-hypertension',\n",
       " u'fold_changes': u'http://fold-changes.stargeo.io.s3.amazonaws.com/243-hypertension',\n",
       " u'id': 243,\n",
       " u'min_samples': 3,\n",
       " u'modifier_query': u'',\n",
       " u'platform_count': 6,\n",
       " u'sample_count': 309,\n",
       " u'series_count': 7,\n",
       " u'specie': u'',\n",
       " u'success': True}"
      ]
     },
     "execution_count": 15,
     "metadata": {},
     "output_type": "execute_result"
    }
   ],
   "source": [
    "analysis = data['results'][0]\n",
    "# or\n",
    "analysis = requests.get('http://stargeo.org/api/v2/analysis/243/').json()\n",
    "analysis"
   ]
  },
  {
   "cell_type": "markdown",
   "metadata": {},
   "source": [
    "Source and fold changes dataframes are accessible via links in corresponding analysis fields."
   ]
  },
  {
   "cell_type": "code",
   "execution_count": 17,
   "metadata": {},
   "outputs": [
    {
     "data": {
      "text/html": [
       "<div>\n",
       "<table border=\"1\" class=\"dataframe\">\n",
       "  <thead>\n",
       "    <tr style=\"text-align: right;\">\n",
       "      <th></th>\n",
       "      <th>series_id</th>\n",
       "      <th>platform_id</th>\n",
       "      <th>sample_id</th>\n",
       "      <th>gsm_name</th>\n",
       "      <th>gse_name</th>\n",
       "      <th>gpl_name</th>\n",
       "      <th>pht</th>\n",
       "      <th>hypertension_control</th>\n",
       "      <th>hypertension</th>\n",
       "      <th>pht_control</th>\n",
       "      <th>sample_class</th>\n",
       "    </tr>\n",
       "  </thead>\n",
       "  <tbody>\n",
       "    <tr>\n",
       "      <th>0</th>\n",
       "      <td>202</td>\n",
       "      <td>4</td>\n",
       "      <td>8089</td>\n",
       "      <td>GSM271847</td>\n",
       "      <td>GSE10767</td>\n",
       "      <td>GPL570</td>\n",
       "      <td></td>\n",
       "      <td></td>\n",
       "      <td></td>\n",
       "      <td>pht_control</td>\n",
       "      <td>0</td>\n",
       "    </tr>\n",
       "    <tr>\n",
       "      <th>1</th>\n",
       "      <td>202</td>\n",
       "      <td>4</td>\n",
       "      <td>8090</td>\n",
       "      <td>GSM271848</td>\n",
       "      <td>GSE10767</td>\n",
       "      <td>GPL570</td>\n",
       "      <td></td>\n",
       "      <td></td>\n",
       "      <td></td>\n",
       "      <td>pht_control</td>\n",
       "      <td>0</td>\n",
       "    </tr>\n",
       "    <tr>\n",
       "      <th>2</th>\n",
       "      <td>202</td>\n",
       "      <td>4</td>\n",
       "      <td>8091</td>\n",
       "      <td>GSM271849</td>\n",
       "      <td>GSE10767</td>\n",
       "      <td>GPL570</td>\n",
       "      <td></td>\n",
       "      <td></td>\n",
       "      <td></td>\n",
       "      <td>pht_control</td>\n",
       "      <td>0</td>\n",
       "    </tr>\n",
       "    <tr>\n",
       "      <th>3</th>\n",
       "      <td>202</td>\n",
       "      <td>4</td>\n",
       "      <td>8092</td>\n",
       "      <td>GSM271865</td>\n",
       "      <td>GSE10767</td>\n",
       "      <td>GPL570</td>\n",
       "      <td>pht</td>\n",
       "      <td></td>\n",
       "      <td></td>\n",
       "      <td></td>\n",
       "      <td>1</td>\n",
       "    </tr>\n",
       "    <tr>\n",
       "      <th>4</th>\n",
       "      <td>202</td>\n",
       "      <td>4</td>\n",
       "      <td>8093</td>\n",
       "      <td>GSM271866</td>\n",
       "      <td>GSE10767</td>\n",
       "      <td>GPL570</td>\n",
       "      <td>pht</td>\n",
       "      <td></td>\n",
       "      <td></td>\n",
       "      <td></td>\n",
       "      <td>1</td>\n",
       "    </tr>\n",
       "  </tbody>\n",
       "</table>\n",
       "</div>"
      ],
      "text/plain": [
       "   series_id  platform_id  sample_id   gsm_name  gse_name gpl_name  pht  \\\n",
       "0        202            4       8089  GSM271847  GSE10767   GPL570        \n",
       "1        202            4       8090  GSM271848  GSE10767   GPL570        \n",
       "2        202            4       8091  GSM271849  GSE10767   GPL570        \n",
       "3        202            4       8092  GSM271865  GSE10767   GPL570  pht   \n",
       "4        202            4       8093  GSM271866  GSE10767   GPL570  pht   \n",
       "\n",
       "  hypertension_control hypertension  pht_control  sample_class  \n",
       "0                                    pht_control             0  \n",
       "1                                    pht_control             0  \n",
       "2                                    pht_control             0  \n",
       "3                                                            1  \n",
       "4                                                            1  "
      ]
     },
     "execution_count": 17,
     "metadata": {},
     "output_type": "execute_result"
    }
   ],
   "source": [
    "# Fetch source dataframe\n",
    "analysis_df = pd.read_json(analysis['df'], orient='split')\n",
    "analysis_df.head()"
   ]
  },
  {
   "cell_type": "code",
   "execution_count": 35,
   "metadata": {},
   "outputs": [
    {
     "data": {
      "text/html": [
       "<div>\n",
       "<table border=\"1\" class=\"dataframe\">\n",
       "  <thead>\n",
       "    <tr style=\"text-align: right;\">\n",
       "      <th></th>\n",
       "      <th>probe</th>\n",
       "      <th>dataMu</th>\n",
       "      <th>dataSigma</th>\n",
       "      <th>dataCount</th>\n",
       "      <th>caseDataMu</th>\n",
       "      <th>caseDataSigma</th>\n",
       "      <th>caseDataCount</th>\n",
       "      <th>controlDataMu</th>\n",
       "      <th>controlDataSigma</th>\n",
       "      <th>controlDataCount</th>\n",
       "      <th>...</th>\n",
       "      <th>log2foldChange</th>\n",
       "      <th>effect_size</th>\n",
       "      <th>ttest</th>\n",
       "      <th>p</th>\n",
       "      <th>direction</th>\n",
       "      <th>subset</th>\n",
       "      <th>gpl</th>\n",
       "      <th>gse</th>\n",
       "      <th>mygene_entrez</th>\n",
       "      <th>mygene_sym</th>\n",
       "    </tr>\n",
       "  </thead>\n",
       "  <tbody>\n",
       "    <tr>\n",
       "      <th>0</th>\n",
       "      <td>1007_s_at</td>\n",
       "      <td>7.121507</td>\n",
       "      <td>0.542821</td>\n",
       "      <td>7</td>\n",
       "      <td>7.463592</td>\n",
       "      <td>0.464840</td>\n",
       "      <td>4</td>\n",
       "      <td>6.665394</td>\n",
       "      <td>0.117251</td>\n",
       "      <td>3</td>\n",
       "      <td>...</td>\n",
       "      <td>0.798197</td>\n",
       "      <td>1.470462</td>\n",
       "      <td>2.842841</td>\n",
       "      <td>0.036126</td>\n",
       "      <td>up</td>\n",
       "      <td>NA</td>\n",
       "      <td>GPL570</td>\n",
       "      <td>GSE10767</td>\n",
       "      <td>780</td>\n",
       "      <td>DDR1</td>\n",
       "    </tr>\n",
       "    <tr>\n",
       "      <th>1</th>\n",
       "      <td>1053_at</td>\n",
       "      <td>9.099162</td>\n",
       "      <td>0.378195</td>\n",
       "      <td>7</td>\n",
       "      <td>9.161432</td>\n",
       "      <td>0.426845</td>\n",
       "      <td>4</td>\n",
       "      <td>9.016136</td>\n",
       "      <td>0.371085</td>\n",
       "      <td>3</td>\n",
       "      <td>...</td>\n",
       "      <td>0.145296</td>\n",
       "      <td>0.384184</td>\n",
       "      <td>0.469187</td>\n",
       "      <td>0.658683</td>\n",
       "      <td>up</td>\n",
       "      <td>NA</td>\n",
       "      <td>GPL570</td>\n",
       "      <td>GSE10767</td>\n",
       "      <td>5982</td>\n",
       "      <td>RFC2</td>\n",
       "    </tr>\n",
       "    <tr>\n",
       "      <th>2</th>\n",
       "      <td>117_at</td>\n",
       "      <td>4.888623</td>\n",
       "      <td>0.503787</td>\n",
       "      <td>7</td>\n",
       "      <td>4.862397</td>\n",
       "      <td>0.707167</td>\n",
       "      <td>4</td>\n",
       "      <td>4.923591</td>\n",
       "      <td>0.089813</td>\n",
       "      <td>3</td>\n",
       "      <td>...</td>\n",
       "      <td>-0.061194</td>\n",
       "      <td>-0.121468</td>\n",
       "      <td>-0.145489</td>\n",
       "      <td>0.890008</td>\n",
       "      <td>down</td>\n",
       "      <td>NA</td>\n",
       "      <td>GPL570</td>\n",
       "      <td>GSE10767</td>\n",
       "      <td>3310</td>\n",
       "      <td>HSPA6</td>\n",
       "    </tr>\n",
       "    <tr>\n",
       "      <th>3</th>\n",
       "      <td>121_at</td>\n",
       "      <td>7.083546</td>\n",
       "      <td>0.281271</td>\n",
       "      <td>7</td>\n",
       "      <td>7.243619</td>\n",
       "      <td>0.269283</td>\n",
       "      <td>4</td>\n",
       "      <td>6.870115</td>\n",
       "      <td>0.094835</td>\n",
       "      <td>3</td>\n",
       "      <td>...</td>\n",
       "      <td>0.373504</td>\n",
       "      <td>1.327916</td>\n",
       "      <td>2.253205</td>\n",
       "      <td>0.073979</td>\n",
       "      <td>up</td>\n",
       "      <td>NA</td>\n",
       "      <td>GPL570</td>\n",
       "      <td>GSE10767</td>\n",
       "      <td>7849</td>\n",
       "      <td>PAX8</td>\n",
       "    </tr>\n",
       "    <tr>\n",
       "      <th>4</th>\n",
       "      <td>1255_g_at</td>\n",
       "      <td>2.841085</td>\n",
       "      <td>0.956595</td>\n",
       "      <td>7</td>\n",
       "      <td>2.736909</td>\n",
       "      <td>0.767581</td>\n",
       "      <td>4</td>\n",
       "      <td>2.979985</td>\n",
       "      <td>1.345662</td>\n",
       "      <td>3</td>\n",
       "      <td>...</td>\n",
       "      <td>-0.243075</td>\n",
       "      <td>-0.254105</td>\n",
       "      <td>-0.306554</td>\n",
       "      <td>0.771538</td>\n",
       "      <td>down</td>\n",
       "      <td>NA</td>\n",
       "      <td>GPL570</td>\n",
       "      <td>GSE10767</td>\n",
       "      <td>2978</td>\n",
       "      <td>GUCA1A</td>\n",
       "    </tr>\n",
       "  </tbody>\n",
       "</table>\n",
       "<p>5 rows × 21 columns</p>\n",
       "</div>"
      ],
      "text/plain": [
       "       probe    dataMu  dataSigma  dataCount  caseDataMu  caseDataSigma  \\\n",
       "0  1007_s_at  7.121507   0.542821          7    7.463592       0.464840   \n",
       "1    1053_at  9.099162   0.378195          7    9.161432       0.426845   \n",
       "2     117_at  4.888623   0.503787          7    4.862397       0.707167   \n",
       "3     121_at  7.083546   0.281271          7    7.243619       0.269283   \n",
       "4  1255_g_at  2.841085   0.956595          7    2.736909       0.767581   \n",
       "\n",
       "   caseDataCount  controlDataMu  controlDataSigma  controlDataCount  \\\n",
       "0              4       6.665394          0.117251                 3   \n",
       "1              4       9.016136          0.371085                 3   \n",
       "2              4       4.923591          0.089813                 3   \n",
       "3              4       6.870115          0.094835                 3   \n",
       "4              4       2.979985          1.345662                 3   \n",
       "\n",
       "      ...      log2foldChange  effect_size     ttest         p  direction  \\\n",
       "0     ...            0.798197     1.470462  2.842841  0.036126         up   \n",
       "1     ...            0.145296     0.384184  0.469187  0.658683         up   \n",
       "2     ...           -0.061194    -0.121468 -0.145489  0.890008       down   \n",
       "3     ...            0.373504     1.327916  2.253205  0.073979         up   \n",
       "4     ...           -0.243075    -0.254105 -0.306554  0.771538       down   \n",
       "\n",
       "  subset     gpl       gse mygene_entrez  mygene_sym  \n",
       "0     NA  GPL570  GSE10767           780        DDR1  \n",
       "1     NA  GPL570  GSE10767          5982        RFC2  \n",
       "2     NA  GPL570  GSE10767          3310       HSPA6  \n",
       "3     NA  GPL570  GSE10767          7849        PAX8  \n",
       "4     NA  GPL570  GSE10767          2978      GUCA1A  \n",
       "\n",
       "[5 rows x 21 columns]"
      ]
     },
     "execution_count": 35,
     "metadata": {},
     "output_type": "execute_result"
    }
   ],
   "source": [
    "# Fetch fold changes. WARNING: this could be big\n",
    "r = requests.get(analysis['fold_changes'])\n",
    "\n",
    "# It is also compressed with zlib\n",
    "import zlib\n",
    "fold_changes = pd.read_json(zlib.decompress(r.content), orient='split')\n",
    "fold_changes.head()"
   ]
  },
  {
   "cell_type": "code",
   "execution_count": 36,
   "metadata": {},
   "outputs": [
    {
     "data": {
      "text/html": [
       "<div>\n",
       "<table border=\"1\" class=\"dataframe\">\n",
       "  <thead>\n",
       "    <tr style=\"text-align: right;\">\n",
       "      <th></th>\n",
       "      <th>mygene_entrez</th>\n",
       "      <th>direction</th>\n",
       "      <th>k</th>\n",
       "      <th>casedatacount</th>\n",
       "      <th>controldatacount</th>\n",
       "      <th>random_pval</th>\n",
       "      <th>random_te</th>\n",
       "      <th>random_se</th>\n",
       "      <th>random_lower</th>\n",
       "      <th>random_upper</th>\n",
       "      <th>...</th>\n",
       "      <th>tau2_se</th>\n",
       "      <th>c</th>\n",
       "      <th>h</th>\n",
       "      <th>h_lower</th>\n",
       "      <th>h_upper</th>\n",
       "      <th>i2</th>\n",
       "      <th>i2_lower</th>\n",
       "      <th>i2_upper</th>\n",
       "      <th>q</th>\n",
       "      <th>q_df</th>\n",
       "    </tr>\n",
       "  </thead>\n",
       "  <tbody>\n",
       "    <tr>\n",
       "      <th>BLM</th>\n",
       "      <td>641</td>\n",
       "      <td>up</td>\n",
       "      <td>7</td>\n",
       "      <td>203</td>\n",
       "      <td>106</td>\n",
       "      <td>0.004175</td>\n",
       "      <td>0.009608</td>\n",
       "      <td>0.003354</td>\n",
       "      <td>0.003034</td>\n",
       "      <td>0.016181</td>\n",
       "      <td>...</td>\n",
       "      <td>NaN</td>\n",
       "      <td>18535.273509</td>\n",
       "      <td>1.000000</td>\n",
       "      <td>1.000000</td>\n",
       "      <td>1.000000</td>\n",
       "      <td>0.000000</td>\n",
       "      <td>0.000000</td>\n",
       "      <td>0.000000</td>\n",
       "      <td>5.801143</td>\n",
       "      <td>6</td>\n",
       "    </tr>\n",
       "    <tr>\n",
       "      <th>A1BG</th>\n",
       "      <td>1</td>\n",
       "      <td>up</td>\n",
       "      <td>5</td>\n",
       "      <td>127</td>\n",
       "      <td>78</td>\n",
       "      <td>0.745816</td>\n",
       "      <td>0.007206</td>\n",
       "      <td>0.022229</td>\n",
       "      <td>-0.036361</td>\n",
       "      <td>0.050773</td>\n",
       "      <td>...</td>\n",
       "      <td>NaN</td>\n",
       "      <td>5559.082818</td>\n",
       "      <td>1.588522</td>\n",
       "      <td>1.000000</td>\n",
       "      <td>2.595664</td>\n",
       "      <td>0.603710</td>\n",
       "      <td>0.000000</td>\n",
       "      <td>0.851576</td>\n",
       "      <td>10.093607</td>\n",
       "      <td>4</td>\n",
       "    </tr>\n",
       "    <tr>\n",
       "      <th>A1BG-AS1</th>\n",
       "      <td>503538</td>\n",
       "      <td>up</td>\n",
       "      <td>2</td>\n",
       "      <td>30</td>\n",
       "      <td>16</td>\n",
       "      <td>0.092131</td>\n",
       "      <td>0.031295</td>\n",
       "      <td>0.018581</td>\n",
       "      <td>-0.005123</td>\n",
       "      <td>0.067713</td>\n",
       "      <td>...</td>\n",
       "      <td>NaN</td>\n",
       "      <td>2.505217</td>\n",
       "      <td>NaN</td>\n",
       "      <td>NaN</td>\n",
       "      <td>NaN</td>\n",
       "      <td>NaN</td>\n",
       "      <td>NaN</td>\n",
       "      <td>NaN</td>\n",
       "      <td>0.562633</td>\n",
       "      <td>1</td>\n",
       "    </tr>\n",
       "    <tr>\n",
       "      <th>A1CF</th>\n",
       "      <td>29974</td>\n",
       "      <td>up</td>\n",
       "      <td>5</td>\n",
       "      <td>172</td>\n",
       "      <td>88</td>\n",
       "      <td>0.104480</td>\n",
       "      <td>0.002854</td>\n",
       "      <td>0.001758</td>\n",
       "      <td>-0.000591</td>\n",
       "      <td>0.006299</td>\n",
       "      <td>...</td>\n",
       "      <td>NaN</td>\n",
       "      <td>31493.161994</td>\n",
       "      <td>1.000000</td>\n",
       "      <td>1.000000</td>\n",
       "      <td>1.000000</td>\n",
       "      <td>0.000000</td>\n",
       "      <td>0.000000</td>\n",
       "      <td>0.000000</td>\n",
       "      <td>1.374130</td>\n",
       "      <td>4</td>\n",
       "    </tr>\n",
       "    <tr>\n",
       "      <th>A2M</th>\n",
       "      <td>2</td>\n",
       "      <td>down</td>\n",
       "      <td>7</td>\n",
       "      <td>203</td>\n",
       "      <td>106</td>\n",
       "      <td>0.689928</td>\n",
       "      <td>-0.003276</td>\n",
       "      <td>0.008211</td>\n",
       "      <td>-0.019368</td>\n",
       "      <td>0.012817</td>\n",
       "      <td>...</td>\n",
       "      <td>NaN</td>\n",
       "      <td>101435.271415</td>\n",
       "      <td>1.986816</td>\n",
       "      <td>1.362318</td>\n",
       "      <td>2.897590</td>\n",
       "      <td>0.746671</td>\n",
       "      <td>0.461181</td>\n",
       "      <td>0.880896</td>\n",
       "      <td>23.684635</td>\n",
       "      <td>6</td>\n",
       "    </tr>\n",
       "  </tbody>\n",
       "</table>\n",
       "<p>5 rows × 34 columns</p>\n",
       "</div>"
      ],
      "text/plain": [
       "          mygene_entrez direction  k  casedatacount  controldatacount  \\\n",
       "BLM                 641        up  7            203               106   \n",
       "A1BG                  1        up  5            127                78   \n",
       "A1BG-AS1         503538        up  2             30                16   \n",
       "A1CF              29974        up  5            172                88   \n",
       "A2M                   2      down  7            203               106   \n",
       "\n",
       "          random_pval  random_te  random_se  random_lower  random_upper  ...   \\\n",
       "BLM          0.004175   0.009608   0.003354      0.003034      0.016181  ...    \n",
       "A1BG         0.745816   0.007206   0.022229     -0.036361      0.050773  ...    \n",
       "A1BG-AS1     0.092131   0.031295   0.018581     -0.005123      0.067713  ...    \n",
       "A1CF         0.104480   0.002854   0.001758     -0.000591      0.006299  ...    \n",
       "A2M          0.689928  -0.003276   0.008211     -0.019368      0.012817  ...    \n",
       "\n",
       "          tau2_se              c         h   h_lower   h_upper        i2  \\\n",
       "BLM           NaN   18535.273509  1.000000  1.000000  1.000000  0.000000   \n",
       "A1BG          NaN    5559.082818  1.588522  1.000000  2.595664  0.603710   \n",
       "A1BG-AS1      NaN       2.505217       NaN       NaN       NaN       NaN   \n",
       "A1CF          NaN   31493.161994  1.000000  1.000000  1.000000  0.000000   \n",
       "A2M           NaN  101435.271415  1.986816  1.362318  2.897590  0.746671   \n",
       "\n",
       "          i2_lower  i2_upper          q  q_df  \n",
       "BLM       0.000000  0.000000   5.801143     6  \n",
       "A1BG      0.000000  0.851576  10.093607     4  \n",
       "A1BG-AS1       NaN       NaN   0.562633     1  \n",
       "A1CF      0.000000  0.000000   1.374130     4  \n",
       "A2M       0.461181  0.880896  23.684635     6  \n",
       "\n",
       "[5 rows x 34 columns]"
      ]
     },
     "execution_count": 36,
     "metadata": {},
     "output_type": "execute_result"
    }
   ],
   "source": [
    "results = pd.read_json('http://stargeo.org/api/v2/analysis/243/results/', orient='split')\n",
    "results.head()"
   ]
  },
  {
   "cell_type": "markdown",
   "metadata": {},
   "source": [
    "To create and start an analysis you need to provide an auth token. You can get see yours in the example below once you are logged in."
   ]
  },
  {
   "cell_type": "code",
   "execution_count": 52,
   "metadata": {},
   "outputs": [
    {
     "data": {
      "text/plain": [
       "{u'created': 385}"
      ]
     },
     "execution_count": 52,
     "metadata": {},
     "output_type": "execute_result"
    }
   ],
   "source": [
    "# This is your auth token, don't share it with anybody\n",
    "headers = {'Authorization': 'Token your-token-here'}\n",
    "# Create new analysis\n",
    "r = requests.post('http://stargeo.org/api/v2/analysis/', headers=headers, data={\n",
    "    'analysis_name': 'Young Severe Dengue',\n",
    "    'description': 'Dengue cases in patients under 9',\n",
    "    'specie': 'human',\n",
    "    'case_query': \"DHF=='DHF' or DSS=='DSS'\",\n",
    "    'control_query': \"DF=='DF'\",\n",
    "    'modifier_query': \"Age < 9\",\n",
    "})\n",
    "r.json()"
   ]
  },
  {
   "cell_type": "markdown",
   "metadata": {},
   "source": [
    "## Annotations\n",
    "\n",
    "Allows listing, fetching and adding annotations. Note that at each point in time you see best available annotations, along with their reliability characteristics. Pay attention at `best_cohens_kappa` attribute, we consider annotation validated when it equals 1, meaning there are two annotation authors that blindly did it the same way.\n"
   ]
  },
  {
   "cell_type": "code",
   "execution_count": 37,
   "metadata": {},
   "outputs": [
    {
     "data": {
      "text/plain": [
       "(16791, 100)"
      ]
     },
     "execution_count": 37,
     "metadata": {},
     "output_type": "execute_result"
    }
   ],
   "source": [
    "annotations = requests.get('http://stargeo.org/api/v2/annotations/').json()\n",
    "annotations['count'], len(annotations['results'])"
   ]
  },
  {
   "cell_type": "code",
   "execution_count": 45,
   "metadata": {},
   "outputs": [
    {
     "data": {
      "text/plain": [
       "{u'annotations': 2,\n",
       " u'authors': 2,\n",
       " u'best_cohens_kappa': 1.0,\n",
       " u'captive': False,\n",
       " u'column': u'sample_source_name_ch1',\n",
       " u'fleiss_kappa': 1.0,\n",
       " u'gpl_name': u'GPL7',\n",
       " u'gse_name': u'GSE1',\n",
       " u'id': 1607,\n",
       " u'regex': u'melanoma',\n",
       " u'samples': 38,\n",
       " u'tag_id': 123}"
      ]
     },
     "execution_count": 45,
     "metadata": {},
     "output_type": "execute_result"
    }
   ],
   "source": [
    "annotations['results'][0]"
   ]
  },
  {
   "cell_type": "code",
   "execution_count": 49,
   "metadata": {},
   "outputs": [
    {
     "name": "stdout",
     "output_type": "stream",
     "text": [
      "{\"GSM48\":\"melanoma\",\"GSM46\":\"melanoma\",\"GSM47\":\"melanoma\",\"GSM44\":\"melanoma\",\"GSM45\":\"melanoma\",\"GSM42\":\"melanoma\",\"GSM43\":\"melanoma\",\"GSM40\":\"\",\"GSM41\":\"melanoma\",\"GSM11\":\"melanoma\",\"GSM13\":\"melanoma\",\"GSM12\":\"\",\"GSM15\":\"melanoma\",\"GSM14\":\"melanoma\",\"GSM39\":\"melanoma\",\"GSM38\":\"melanoma\",\"GSM37\":\"melanoma\",\"GSM36\":\"melanoma\",\"GSM35\":\"melanoma\",\"GSM34\":\"melanoma\",\"GSM33\":\"melanoma\",\"GSM32\":\"melanoma\",\"GSM31\":\"melanoma\",\"GSM30\":\"melanoma\",\"GSM17\":\"melanoma\",\"GSM16\":\"melanoma\",\"GSM19\":\"\",\"GSM18\":\"\",\"GSM28\":\"melanoma\",\"GSM29\":\"melanoma\",\"GSM20\":\"\",\"GSM21\":\"\",\"GSM22\":\"\",\"GSM23\":\"melanoma\",\"GSM24\":\"melanoma\",\"GSM25\":\"melanoma\",\"GSM26\":\"melanoma\",\"GSM27\":\"melanoma\"}\n"
     ]
    }
   ],
   "source": [
    "print(requests.get('http://stargeo.org/api/v2/annotations/1607/samples/').text)"
   ]
  },
  {
   "cell_type": "markdown",
   "metadata": {},
   "source": [
    "To post annotations you need to authorize as a competent user. To authorize you need to send `Authorization` token same as when creating analysis."
   ]
  },
  {
   "cell_type": "code",
   "execution_count": 61,
   "metadata": {
    "collapsed": true
   },
   "outputs": [],
   "source": [
    "# This is your auth token, don't share it with anybody\n",
    "headers = {'Authorization': 'Token your-token-here'}\n",
    "# Create new analysis\n",
    "r = requests.post('http://localhost:5000/api/v2/annotations/', headers=headers, json={\n",
    "    'tag': 'melanoma',\n",
    "    'series': 'GSE1',\n",
    "    'platform': 'GPL7',\n",
    "    # Need to provide full set of samples\n",
    "    'annotations': {'GSM11': 'melanoma', 'GSM12': '', ...},\n",
    "    # Optional text note\n",
    "    'note': '...',  \n",
    "})\n",
    "assert r.ok"
   ]
  }
 ],
 "metadata": {
  "kernelspec": {
   "display_name": "Python 2",
   "language": "python",
   "name": "python2"
  },
  "language_info": {
   "codemirror_mode": {
    "name": "ipython",
    "version": 2
   },
   "file_extension": ".py",
   "mimetype": "text/x-python",
   "name": "python",
   "nbconvert_exporter": "python",
   "pygments_lexer": "ipython2",
   "version": "2.7.13"
  }
 },
 "nbformat": 4,
 "nbformat_minor": 2
}
